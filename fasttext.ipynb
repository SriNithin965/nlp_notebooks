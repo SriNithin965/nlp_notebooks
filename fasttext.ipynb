{
  "cells": [
    {
      "cell_type": "markdown",
      "metadata": {
        "id": "view-in-github",
        "colab_type": "text"
      },
      "source": [
        "<a href=\"https://colab.research.google.com/github/SriNithin965/nlp_notebooks/blob/main/fasttext.ipynb\" target=\"_parent\"><img src=\"https://colab.research.google.com/assets/colab-badge.svg\" alt=\"Open In Colab\"/></a>"
      ]
    },
    {
      "cell_type": "markdown",
      "id": "2542083b",
      "metadata": {
        "id": "2542083b"
      },
      "source": [
        "FastText is an extension to Word2Vec proposed by Facebook in 2016. Instead of feeding individual words into the Neural Network, FastText breaks words into several n-grams (sub-words). For instance, the tri-grams for the word apple is app, ppl, and ple (ignoring the starting and ending of boundaries of words). The word embedding vector for apple will be the sum of all these n-grams. After training the Neural Network, we will have word embeddings for all the n-grams given the training dataset. Rare words can now be properly represented since it is highly likely that some of their n-grams also appears in other words. I will show you how to use FastText with Gensim in the following section."
      ]
    },
    {
      "cell_type": "code",
      "execution_count": null,
      "id": "86d2f05c",
      "metadata": {
        "id": "86d2f05c",
        "outputId": "3899f7ac-4c74-4b79-a919-5d69f6fcabe9"
      },
      "outputs": [
        {
          "name": "stdout",
          "output_type": "stream",
          "text": [
            "<gensim.models.fasttext.FastText object at 0x000001F00162C5B0>\n"
          ]
        }
      ],
      "source": [
        "from pprint import pprint as print\n",
        "from gensim.models.fasttext import FastText\n",
        "from gensim.test.utils import datapath\n",
        "\n",
        "# Set file names for train and test data\n",
        "corpus_file = datapath('lee_background.cor')\n",
        "\n",
        "model = FastText(vector_size=100)\n",
        "\n",
        "# build the vocabulary\n",
        "model.build_vocab(corpus_file=corpus_file)\n",
        "\n",
        "# train the model\n",
        "model.train(\n",
        "    corpus_file=corpus_file, epochs=model.epochs,\n",
        "    total_examples=model.corpus_count, total_words=model.corpus_total_words,\n",
        ")\n",
        "\n",
        "print(model)"
      ]
    },
    {
      "cell_type": "code",
      "execution_count": null,
      "id": "f5d5bc94",
      "metadata": {
        "id": "f5d5bc94",
        "outputId": "fab4587b-9eab-46cc-a507-a55ece589cf3"
      },
      "outputs": [
        {
          "name": "stdout",
          "output_type": "stream",
          "text": [
            "<gensim.models.fasttext.FastTextKeyedVectors object at 0x000001F00162C520>\n"
          ]
        }
      ],
      "source": [
        "wv = model.wv\n",
        "print(wv)"
      ]
    },
    {
      "cell_type": "code",
      "execution_count": null,
      "id": "f591fce9",
      "metadata": {
        "id": "f591fce9",
        "outputId": "22934239-b25a-46e2-f83c-1bef50df6a87"
      },
      "outputs": [
        {
          "data": {
            "text/plain": [
              "array([-0.13601464,  0.1206445 , -0.17324091, -0.06203524,  0.04282829,\n",
              "        0.23890977,  0.19053896,  0.3213919 ,  0.16475925, -0.15950854,\n",
              "        0.02349657, -0.10488129, -0.1430523 ,  0.33074853, -0.2623605 ,\n",
              "       -0.3597735 ,  0.1152797 , -0.16147825, -0.27947775, -0.3532005 ,\n",
              "       -0.30688426, -0.03713719, -0.29282302, -0.08848781, -0.12943256,\n",
              "       -0.21343252, -0.45209476, -0.07147336, -0.21573687,  0.1766408 ,\n",
              "       -0.21581466,  0.19174771,  0.5406469 , -0.17505644,  0.1229412 ,\n",
              "        0.25960675,  0.25127518, -0.07169745, -0.24575746, -0.2214999 ,\n",
              "        0.30793127, -0.27963513,  0.02619917, -0.2733715 , -0.34414735,\n",
              "       -0.18905082, -0.05138936,  0.07613254,  0.24654427,  0.00366264,\n",
              "        0.22768787, -0.2826577 ,  0.1922712 , -0.2627508 , -0.12381885,\n",
              "       -0.11427651, -0.10306711, -0.08921213,  0.03112538, -0.23383443,\n",
              "       -0.21684554, -0.2888015 , -0.11493521,  0.22562303, -0.08188816,\n",
              "        0.4543199 ,  0.03838707,  0.04640825,  0.27662313,  0.16165106,\n",
              "       -0.15229951,  0.25055915,  0.33031192, -0.4261016 ,  0.22683333,\n",
              "       -0.06897509,  0.18290839, -0.02813722,  0.03206832,  0.25123245,\n",
              "        0.12283247, -0.3263652 , -0.52811813, -0.1015449 , -0.08436078,\n",
              "       -0.52100617,  0.32003552,  0.12154152, -0.01144899, -0.18025102,\n",
              "       -0.00459796,  0.26780865, -0.07752705,  0.03901067, -0.13033462,\n",
              "        0.38999423, -0.14165482, -0.21195138, -0.02242693, -0.14875571],\n",
              "      dtype=float32)"
            ]
          },
          "execution_count": 5,
          "metadata": {},
          "output_type": "execute_result"
        }
      ],
      "source": [
        "wv['india']"
      ]
    },
    {
      "cell_type": "code",
      "execution_count": null,
      "id": "da256bd5",
      "metadata": {
        "id": "da256bd5",
        "outputId": "f5fbebd1-1051-4c45-d0b7-47298ae13667"
      },
      "outputs": [
        {
          "data": {
            "text/plain": [
              "0.9999638"
            ]
          },
          "execution_count": 6,
          "metadata": {},
          "output_type": "execute_result"
        }
      ],
      "source": [
        "sim_score = model.wv.similarity('pakistan', 'india')\n",
        "sim_score"
      ]
    },
    {
      "cell_type": "code",
      "execution_count": null,
      "id": "5a373ab6",
      "metadata": {
        "id": "5a373ab6"
      },
      "outputs": [],
      "source": []
    }
  ],
  "metadata": {
    "kernelspec": {
      "display_name": "Python 3 (ipykernel)",
      "language": "python",
      "name": "python3"
    },
    "language_info": {
      "codemirror_mode": {
        "name": "ipython",
        "version": 3
      },
      "file_extension": ".py",
      "mimetype": "text/x-python",
      "name": "python",
      "nbconvert_exporter": "python",
      "pygments_lexer": "ipython3",
      "version": "3.9.12"
    },
    "colab": {
      "provenance": [],
      "include_colab_link": true
    }
  },
  "nbformat": 4,
  "nbformat_minor": 5
}