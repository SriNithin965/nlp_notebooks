{
  "cells": [
    {
      "cell_type": "markdown",
      "metadata": {
        "id": "view-in-github",
        "colab_type": "text"
      },
      "source": [
        "<a href=\"https://colab.research.google.com/github/SriNithin965/nlp_notebooks/blob/main/chatbot.ipynb\" target=\"_parent\"><img src=\"https://colab.research.google.com/assets/colab-badge.svg\" alt=\"Open In Colab\"/></a>"
      ]
    },
    {
      "cell_type": "markdown",
      "id": "8a3bb72d",
      "metadata": {
        "id": "8a3bb72d"
      },
      "source": [
        "# CHATBOT"
      ]
    },
    {
      "cell_type": "markdown",
      "id": "45a82f38",
      "metadata": {
        "id": "45a82f38"
      },
      "source": [
        "A chatbot is a smart application that reduces human work and helps an organization to solve basic queries of the customer. Today most of the companies, business from different sector makes use of chatbot in a different way to reply their customer as fast as possible. chatbots also help in increasing traffic of site which is top reason of business to use chatbots.\n",
        "\n",
        "Chatbot asks for basic information of customers like name, email address, and the query. If a query is simple like product fault, booking mistake, need some information then without any human connection it can solve it automatically and If some problem is high then It passes the details to the human head and helps customer to connect with organization manager easily. And most of the customers like to deal and talk with a chatbot."
      ]
    },
    {
      "cell_type": "markdown",
      "id": "e4b34127",
      "metadata": {
        "id": "e4b34127"
      },
      "source": [
        "## Types of Chatbots"
      ]
    },
    {
      "cell_type": "markdown",
      "id": "105ab734",
      "metadata": {
        "id": "105ab734"
      },
      "source": [
        "There are mainly 2 types of chatbots.\n",
        "\n",
        "1) Rule-based Chatbots – As the Name suggests, there are certain rules on which chatbot operates. Like a Machine learning model, we train the chatbots on user intents and relevant responses, and based on these intents chatbot identifies the new user’s intent and response to him.\n",
        "\n",
        "2) Self-learning chatbots – Self-learning bots are highly efficient because they are capable to grab and identify the user’s intent on their own. they are build using advanced tools and techniques of Machine Learning, Deep Learning, and NLP. Self-learning bots are further divided into 2 subcategories."
      ]
    },
    {
      "cell_type": "markdown",
      "id": "81b015ea",
      "metadata": {
        "id": "81b015ea"
      },
      "source": [
        "## SIMPLE CHATBOT USING THE TKINTER"
      ]
    },
    {
      "cell_type": "markdown",
      "id": "213074de",
      "metadata": {
        "id": "213074de"
      },
      "source": [
        "Build one for you using Python\n",
        "Now we have an immense understanding of the theory of chatbots and their advancement in the future. Let’s make our hands dirty by building one simple rule-based chatbot using python for ourselves.\n",
        "\n",
        "We will design a simple GUI using the Python Tkinter module using which we will create a text box and button to submit user intent and on the action, we will build a function where we will match the user intent and respond to him on his intent. If you do not have the Tkinter module install, then first install it using the pip command."
      ]
    },
    {
      "cell_type": "code",
      "execution_count": null,
      "id": "5ac73259",
      "metadata": {
        "id": "5ac73259"
      },
      "outputs": [],
      "source": [
        "from tkinter import * #import the package\n",
        "root = Tk() #calling the Tk() class to create a object\n",
        "root.title(\"Chatbot\") #setting the title\n",
        "def send(): #fuction which carries prerecording requests and reponses of chat bot\n",
        "    send = \"You -> \"+e.get()\n",
        "    txt.insert(END, \"\\n\"+send)\n",
        "    user = e.get().lower()\n",
        "    if(user == \"hello\"):\n",
        "        txt.insert(END, \"\\n\" + \"Tony -> Hi\")\n",
        "    elif(user == \"hi\" or user == \"hii\" or user == \"hiiii\"):\n",
        "        txt.insert(END, \"\\n\" + \"Tony -> Hello\")\n",
        "    elif(e.get() == \"how are you\"):\n",
        "        txt.insert(END, \"\\n\" + \"Tony -> fine! and you\")\n",
        "    elif(user == \"fine\" or user == \"i am good\" or user == \"i am doing good\"):\n",
        "        txt.insert(END, \"\\n\" + \"Tony -> Great! how can I help you.\")\n",
        "    else:\n",
        "        txt.insert(END, \"\\n\" + \"Tony -> Sorry! I dind't got you\")\n",
        "    e.delete(0, END)\n",
        "txt = Text(root) \n",
        "txt.grid(row=0, column=0, columnspan=2) \n",
        "e = Entry(root, width=100) # request box \n",
        "e.grid(row=1, column=0) # dimensions of request or input box\n",
        "send = Button(root, text=\"Send\", command=send).grid(row=1, column=1) #button to activate the request\n",
        "root.mainloop() # running all together "
      ]
    },
    {
      "cell_type": "markdown",
      "id": "42891a86",
      "metadata": {
        "id": "42891a86"
      },
      "source": [
        "## CHATBOT USING NLTK"
      ]
    },
    {
      "cell_type": "markdown",
      "id": "bc3bce37",
      "metadata": {
        "id": "bc3bce37"
      },
      "source": [
        "NLTK stands for Natural language toolkit used to deal with NLP applications and chatbot is one among them. Now we will advance our Rule-based chatbots using the NLTK library. Please install the NLTK library first before working using the pip command."
      ]
    },
    {
      "cell_type": "code",
      "execution_count": 3,
      "id": "a5a87a19",
      "metadata": {
        "colab": {
          "base_uri": "https://localhost:8080/"
        },
        "id": "a5a87a19",
        "outputId": "6b73ae41-f55c-4010-fc18-c342a688448e"
      },
      "outputs": [
        {
          "output_type": "stream",
          "name": "stdout",
          "text": [
            "Hi! I am a chatbot on your service for end the chat type quit\n",
            ">hi\n",
            "Hello\n",
            ">quit\n",
            "BBye take care. See you soon :) \n"
          ]
        }
      ],
      "source": [
        "import nltk\n",
        "from nltk.chat.util import Chat\n",
        "pairs = [           #these the request and responses \n",
        "    [\n",
        "        r\"my name is (.*)\",\n",
        "        [\"Hello %1, How are you today ?\",]\n",
        "    ],\n",
        "    [\n",
        "        r\"who are you\",\n",
        "        ['i am chat bot']\n",
        "    ],\n",
        "    [\n",
        "        r\"hi|hey|hello\",\n",
        "        [\"Hello\", \"Hey there\",]\n",
        "    ], \n",
        "    [\n",
        "        r\"what is your name ?\",\n",
        "        [\"I am  tony.\",]\n",
        "    ],\n",
        "    [\n",
        "        r\"how are you ?\",\n",
        "        [\"I'm doing goodnHow about You ?\",]\n",
        "    ],\n",
        "    [\n",
        "        r\"sorry (.*)\",\n",
        "        [\"Its alright\",\"Its OK, never mind\",]\n",
        "    ],\n",
        "    [\n",
        "        r\"I am fine\",\n",
        "        [\"Great to hear that, How can I help you?\",]\n",
        "    ],\n",
        "    [\n",
        "        r\"i'm (.*) doing good\",\n",
        "        [\"Nice to hear that\",\"How can I help you?:)\",]\n",
        "    ],\n",
        "    [\n",
        "        r\"(.*) age?\",\n",
        "        [\"I'm a computer program dudenSeriously you are asking me this?\",]\n",
        "    ],\n",
        "    [\n",
        "        r\"what (.*) want ?\",\n",
        "        [\"Make me an offer I can't refuse\",]\n",
        "    ],\n",
        "    [\n",
        "        r\"(.*) created ?\",\n",
        "        [\"Raghav created me using Python's NLTK library \",\"top secret ;)\",]\n",
        "    ],\n",
        "    [\n",
        "        r\"(.*) (location|city) ?\",\n",
        "        ['hyderabad, Telangana',]\n",
        "    ],\n",
        "    [\n",
        "        r\"how is weather in (.*)?\",\n",
        "        [\"Weather in %1 is awesome like always\",\"Too hot man here in %1\",\"Too cold man here in %1\",\"Never even heard about %1\"]\n",
        "    ],\n",
        "    [\n",
        "        r\"i work in (.*)?\",\n",
        "        [\"%1 is an Amazing company, I have heard about it. But they are in huge loss these days.\",]\n",
        "    ],\n",
        "    [\n",
        "        r\"(.*)raining in (.*)\",\n",
        "        [\"No rain since last week here in %2\",\"Damn its raining too much here in %2\"]\n",
        "    ],\n",
        "    [\n",
        "        r\"how (.*) health(.*)\",\n",
        "        [\"I'm a computer program, so I'm always healthy \",]\n",
        "    ],\n",
        "    [\n",
        "        r\"(.*) (sports|game) ?\",\n",
        "        [\"I'm a very big fan of cricket\",]\n",
        "    ],\n",
        "    [\n",
        "        r\"who (.*) sportsperson ?\",\n",
        "        [\"Messy\",\"Ronaldo\",\"kohli\"]\n",
        "    ],\n",
        "    [\n",
        "        r\"who (.*) (moviestar|actor)?\",\n",
        "        [\"Brad Pitt\"]\n",
        "    ],\n",
        "    [\n",
        "        r\"quit\",\n",
        "        [\"BBye take care. See you soon :) \",\"It was nice talking to you. See you soon :)\"]\n",
        "    ],\n",
        "]\n",
        "def chat():\n",
        "    print(\"Hi! I am a chatbot on your service for end the chat type quit\")\n",
        "    \n",
        "    chat = Chat(pairs) \n",
        "    chat.converse()\n",
        "#initiate the conversation\n",
        "if __name__ == \"__main__\":\n",
        "    chat()"
      ]
    }
  ],
  "metadata": {
    "kernelspec": {
      "display_name": "Python 3 (ipykernel)",
      "language": "python",
      "name": "python3"
    },
    "language_info": {
      "codemirror_mode": {
        "name": "ipython",
        "version": 3
      },
      "file_extension": ".py",
      "mimetype": "text/x-python",
      "name": "python",
      "nbconvert_exporter": "python",
      "pygments_lexer": "ipython3",
      "version": "3.9.12"
    },
    "colab": {
      "provenance": [],
      "include_colab_link": true
    }
  },
  "nbformat": 4,
  "nbformat_minor": 5
}