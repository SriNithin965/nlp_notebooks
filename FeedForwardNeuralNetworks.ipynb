{
  "nbformat": 4,
  "nbformat_minor": 0,
  "metadata": {
    "colab": {
      "provenance": [],
      "authorship_tag": "ABX9TyONsb8VqlWnjb8boL9C7YJs",
      "include_colab_link": true
    },
    "kernelspec": {
      "name": "python3",
      "display_name": "Python 3"
    },
    "language_info": {
      "name": "python"
    }
  },
  "cells": [
    {
      "cell_type": "markdown",
      "metadata": {
        "id": "view-in-github",
        "colab_type": "text"
      },
      "source": [
        "<a href=\"https://colab.research.google.com/github/SriNithin965/nlp_notebooks/blob/main/FeedForwardNeuralNetworks.ipynb\" target=\"_parent\"><img src=\"https://colab.research.google.com/assets/colab-badge.svg\" alt=\"Open In Colab\"/></a>"
      ]
    },
    {
      "cell_type": "markdown",
      "source": [
        "## FeedForward Neural Networks\n",
        "FeedForward neurak networks are basic implementation of neural networks where we feed the input along with the weights and bias which are randomly assigned and generated the output then we find the loss with respect to the actual ouput and we back propagate to reduce the loss and update the weights and bias.\n",
        "\n"
      ],
      "metadata": {
        "id": "PVC0XGXqHkxx"
      }
    },
    {
      "cell_type": "markdown",
      "source": [
        "### Steps in  the feedforward neural networks are\n",
        "1) data loading <br>\n",
        "2) hyper parameters defining <br>\n",
        "3) building the model <br>\n",
        "4) training the model <br>\n",
        "5) evaluation of model"
      ],
      "metadata": {
        "id": "dKFPB6i2JR71"
      }
    },
    {
      "cell_type": "markdown",
      "source": [
        "## FFNN For Regression\n",
        "here we generated a data in a linear regression way using the sklearn datasets make_regression function"
      ],
      "metadata": {
        "id": "2gSRCjYUU9RB"
      }
    },
    {
      "cell_type": "markdown",
      "source": [
        "### FFNN using pytroch\n",
        "let's build a simple feedback neural network using pytorch"
      ],
      "metadata": {
        "id": "xvxYwTDUKEJ2"
      }
    },
    {
      "cell_type": "code",
      "execution_count": 2,
      "metadata": {
        "colab": {
          "base_uri": "https://localhost:8080/"
        },
        "id": "isnBaffmHYNh",
        "outputId": "d7545548-48bd-4a51-9569-a6810c586e71"
      },
      "outputs": [
        {
          "output_type": "stream",
          "name": "stdout",
          "text": [
            "epoch: 10, loss = 4093.9397\n",
            "epoch: 20, loss = 2884.0679\n",
            "epoch: 30, loss = 2059.3860\n",
            "epoch: 40, loss = 1497.1388\n",
            "epoch: 50, loss = 1113.7323\n",
            "epoch: 60, loss = 852.2265\n",
            "epoch: 70, loss = 673.8279\n",
            "epoch: 80, loss = 552.1010\n",
            "epoch: 90, loss = 469.0267\n",
            "epoch: 100, loss = 412.3207\n"
          ]
        }
      ],
      "source": [
        "import torch\n",
        "import torch.nn as nn\n",
        "import numpy as np\n",
        "from sklearn import datasets\n",
        "\n",
        "# 1)data loadding or generating\n",
        "X_numpy, y_numpy = datasets.make_regression(n_samples=100, n_features=1, noise=20, random_state=4)\n",
        "\n",
        "# convert them into tensor\n",
        "X = torch.from_numpy(X_numpy.astype(np.float32))\n",
        "y = torch.from_numpy(y_numpy.astype(np.float32))\n",
        "y = y.view(y.shape[0], 1)\n",
        "\n",
        "# 2)hyper parameters indication\n",
        "n_samples, n_features = X.shape\n",
        "input_size = n_features\n",
        "output_size = 1\n",
        "learning_rate = 0.01\n",
        "\n",
        "# 3) model building\n",
        "model = nn.Linear(input_size, output_size)\n",
        "criterion = nn.MSELoss()\n",
        "optimizer = torch.optim.SGD(model.parameters(), lr=learning_rate)  \n",
        "\n",
        "# 4) model training\n",
        "num_epochs = 100\n",
        "for epoch in range(num_epochs):\n",
        "    # Forward pass and loss\n",
        "    y_predicted = model(X)\n",
        "    loss = criterion(y_predicted, y)\n",
        "    \n",
        "    # Backward pass and update\n",
        "    loss.backward()\n",
        "    optimizer.step()\n",
        "\n",
        "    # zero grad before new step\n",
        "    optimizer.zero_grad()\n",
        "\n",
        "    if (epoch+1) % 10 == 0:\n",
        "        print(f'epoch: {epoch+1}, loss = {loss.item():.4f}')"
      ]
    },
    {
      "cell_type": "code",
      "source": [
        "# 5) evaluation of model\n",
        "predicted = model(X).detach()\n",
        "criterion(predicted,y)"
      ],
      "metadata": {
        "colab": {
          "base_uri": "https://localhost:8080/"
        },
        "id": "AgQgnY6eMB4t",
        "outputId": "9368ae1e-983a-4251-a1b3-833bf0692db6"
      },
      "execution_count": 3,
      "outputs": [
        {
          "output_type": "execute_result",
          "data": {
            "text/plain": [
              "tensor(407.7514)"
            ]
          },
          "metadata": {},
          "execution_count": 3
        }
      ]
    },
    {
      "cell_type": "markdown",
      "source": [
        "### FFNN using Keras"
      ],
      "metadata": {
        "id": "0VFyqm-CMt2D"
      }
    },
    {
      "cell_type": "code",
      "source": [
        "import tensorflow as tf\n",
        "from tensorflow.keras.models import Sequential\n",
        "from tensorflow.keras.layers import Dense\n",
        "from sklearn import datasets\n",
        "\n",
        "#1) loading the data\n",
        "X_numpy, y_numpy = datasets.make_regression(n_samples=100,\n",
        "                  n_features=1, noise=20, random_state=4)\n",
        "#) reshaping the data\n",
        "y_numpy = y_numpy.reshape(100,1)\n",
        "\n",
        "# 2,3) Model building and hyper parameters intialization\n",
        "model = Sequential()\n",
        "model.add(Dense(1,input_shape=X_numpy.shape))\n",
        "model.compile(optimizer=tf.keras.optimizers.SGD(learning_rate=0.01),\n",
        "              loss=tf.keras.losses.MeanSquaredError())\n",
        "\n",
        "\n",
        "#) training the model\n",
        "model.fit(X_numpy,y_numpy,epochs=100)"
      ],
      "metadata": {
        "id": "1hQgHWwBMy-v"
      },
      "execution_count": null,
      "outputs": []
    },
    {
      "cell_type": "code",
      "source": [
        "#) evaluation of model\n",
        "model.evaluate(X_numpy, y_numpy)"
      ],
      "metadata": {
        "id": "LgV3YURNSrrd"
      },
      "execution_count": null,
      "outputs": []
    }
  ]
}